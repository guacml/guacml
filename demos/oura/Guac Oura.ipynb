{
 "cells": [
  {
   "cell_type": "code",
   "execution_count": null,
   "metadata": {},
   "outputs": [],
   "source": [
    "%matplotlib inline\n",
    "import pandas as pd\n",
    "import numpy as np\n",
    "import os, sys\n",
    "module_path = os.path.abspath(os.path.join('../..'))\n",
    "if module_path not in sys.path:\n",
    "    sys.path.append(module_path)\n",
    "\n",
    "from guacml import GuacMl"
   ]
  },
  {
   "cell_type": "code",
   "execution_count": null,
   "metadata": {},
   "outputs": [],
   "source": [
    "oura = pd.read_feather('./data/raw/oura_temp_past_as_cols_27_jul_17.feather')\n",
    "oura = oura[oura.cycle_length <= 90]\n",
    "oura.columns"
   ]
  },
  {
   "cell_type": "code",
   "execution_count": null,
   "metadata": {},
   "outputs": [],
   "source": [
    "guac = GuacMl(oura.copy(), \n",
    "              target='day_from_end', \n",
    "              problem_type='regression', \n",
    "              log_level='warning',\n",
    "              exclude_cols=['user_id', 'cycle_id', 'cycle_start', 'cycle_length', 'date']\n",
    "              #,target_transform='log'\n",
    ")\n",
    "%time guac.run(25)"
   ]
  },
  {
   "cell_type": "code",
   "execution_count": null,
   "metadata": {},
   "outputs": [],
   "source": [
    "guac.plots.error_overview()"
   ]
  },
  {
   "cell_type": "code",
   "execution_count": null,
   "metadata": {},
   "outputs": [],
   "source": [
    "guac.model_results['xg_boost'].holdout_data[['']]"
   ]
  },
  {
   "cell_type": "code",
   "execution_count": null,
   "metadata": {},
   "outputs": [],
   "source": [
    "guac_no_reduce = GuacMl(oura.copy(), target='day_from_end', problem_type='regression', log_level='warning',\n",
    "                        exclude_cols=['user_id', 'cycle_id', 'cycle_start', 'cycle_length', 'date'],\n",
    "                        config = {'model_manage': {'reduce_features' : False}})\n",
    "%time guac_no_reduce.run(25)"
   ]
  },
  {
   "cell_type": "code",
   "execution_count": null,
   "metadata": {},
   "outputs": [],
   "source": [
    "non_temp_cols = [col for col in oura.columns if 'temp' not in col]\n",
    "guac_no_temp = GuacMl(oura[non_temp_cols].copy(), target='day_from_end', problem_type='regression', log_level='warning',\n",
    "                      exclude_cols=['user_id', 'cycle_id', 'cycle_start', 'cycle_length', 'date'],\n",
    "                      config = {'model_manage': {'reduce_features' : False}})\n",
    "%time guac_no_temp.run(10)"
   ]
  },
  {
   "cell_type": "code",
   "execution_count": null,
   "metadata": {},
   "outputs": [],
   "source": [
    "df = pd.DataFrame({'a': [1] * 5 + [2] * 5, 'value': range(10)}, index=pd.date_range('1/1/2016', periods=10))"
   ]
  },
  {
   "cell_type": "code",
   "execution_count": null,
   "metadata": {},
   "outputs": [],
   "source": [
    "grouped = df.groupby('a')"
   ]
  },
  {
   "cell_type": "code",
   "execution_count": null,
   "metadata": {},
   "outputs": [],
   "source": [
    "dir(grouped)"
   ]
  },
  {
   "cell_type": "code",
   "execution_count": null,
   "metadata": {},
   "outputs": [],
   "source": [
    "\n",
    "cumcount = grouped['a', 'value'].cumcount()\n",
    "dates = pd.Series(cumcount[cumcount == 2].index, index=nth.index, name='date')\n",
    "pd.concat([dates, nth], axis=1)"
   ]
  },
  {
   "cell_type": "code",
   "execution_count": null,
   "metadata": {},
   "outputs": [],
   "source": [
    "df.groupby('a').rolling(2).median()"
   ]
  },
  {
   "cell_type": "code",
   "execution_count": null,
   "metadata": {},
   "outputs": [],
   "source": []
  }
 ],
 "metadata": {
  "kernelspec": {
   "display_name": "Conda",
   "language": "python",
   "name": "python3"
  },
  "language_info": {
   "codemirror_mode": {
    "name": "ipython",
    "version": 3
   },
   "file_extension": ".py",
   "mimetype": "text/x-python",
   "name": "python",
   "nbconvert_exporter": "python",
   "pygments_lexer": "ipython3",
   "version": "3.5.1"
  }
 },
 "nbformat": 4,
 "nbformat_minor": 1
}
