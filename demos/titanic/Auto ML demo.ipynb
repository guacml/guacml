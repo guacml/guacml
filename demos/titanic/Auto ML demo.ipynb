{
 "cells": [
  {
   "cell_type": "code",
   "execution_count": null,
   "metadata": {},
   "outputs": [],
   "source": [
    "import pandas as pd\n",
    "import numpy as np\n",
    "from sklearn.model_selection import train_test_split\n",
    "\n",
    "from auto_ml import Predictor\n",
    "from auto_ml.utils import get_boston_dataset\n",
    "from auto_ml.utils_models import load_ml_model\n",
    "\n",
    "# Load data\n",
    "data = pd.read_csv('./data/raw/train.csv')\n",
    "train, test = train_test_split(data, test_size=0.2)"
   ]
  },
  {
   "cell_type": "code",
   "execution_count": null,
   "metadata": {},
   "outputs": [],
   "source": [
    "# Tell auto_ml which column is 'output'\n",
    "# Also note columns that aren't purely numerical\n",
    "# Examples include ['nlp', 'date', 'categorical', 'ignore']\n",
    "column_descriptions = {\n",
    "    'Name': 'categorical',\n",
    "    'Sex': 'categorical',\n",
    "    'Ticket': 'categorical',\n",
    "    'Cabin': 'categorical',\n",
    "    'Embarked': 'categorical',\n",
    "    'Survived': 'output'\n",
    "}\n",
    "\n",
    "ml_predictor = Predictor(type_of_estimator='classifier', column_descriptions=column_descriptions, verbose=False)\n",
    "\n",
    "ml_predictor.train(train, #model_names=['XGBClassifier'],\n",
    "                   verbose=False)\n",
    "\n",
    "# Score the model on test data\n",
    "predictions = ml_predictor.predict(test)"
   ]
  },
  {
   "cell_type": "code",
   "execution_count": null,
   "metadata": {},
   "outputs": [],
   "source": [
    "acc = (predictions == test['Survived']).sum() / test.shape[0]\n",
    "print('accuracy is {0:.1%}'.format(acc))"
   ]
  },
  {
   "cell_type": "code",
   "execution_count": null,
   "metadata": {},
   "outputs": [],
   "source": [
    "# accuracy for deep learning classifier\n",
    "#acc = (pd.Series([item[0] for item in predictions]) == test['Survived'].reset_index(drop=True)).sum() / test.shape[0]\n",
    "#print('accuracy is {0:.1%}'.format(acc))"
   ]
  },
  {
   "cell_type": "code",
   "execution_count": null,
   "metadata": {},
   "outputs": [],
   "source": []
  }
 ],
 "metadata": {
  "kernelspec": {
   "display_name": "Conda",
   "language": "python",
   "name": "python3"
  },
  "language_info": {
   "codemirror_mode": {
    "name": "ipython",
    "version": 3
   },
   "file_extension": ".py",
   "mimetype": "text/x-python",
   "name": "python",
   "nbconvert_exporter": "python",
   "pygments_lexer": "ipython3",
   "version": "3.5.1"
  }
 },
 "nbformat": 4,
 "nbformat_minor": 1
}
