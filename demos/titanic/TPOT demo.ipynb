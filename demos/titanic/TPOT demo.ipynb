{
 "cells": [
  {
   "cell_type": "code",
   "execution_count": null,
   "metadata": {},
   "outputs": [],
   "source": [
    "# short version of https://github.com/rhiever/tpot/blob/master/tutorials/Titanic_Kaggle.ipynb\n",
    "\n",
    "import pandas as pd\n",
    "import numpy as np\n",
    "from tpot import TPOTClassifier\n",
    "from sklearn.datasets import load_digits\n",
    "from sklearn.model_selection import train_test_split\n",
    "\n",
    "data = pd.read_csv('./data/raw/train.csv')\n",
    "\n",
    "# TPOT requires target to be called class\n",
    "data.rename(columns={'Survived': 'class'}, inplace=True)\n",
    "\n",
    "# TPOT requires all data to be numeric\n",
    "data['Sex'] = data['Sex'].map({'male':0,'female':1})\n",
    "data['Embarked'] = data['Embarked'].map({'S':0,'C':1,'Q':2})\n",
    "data = data.fillna(-999)\n",
    "from sklearn.preprocessing import MultiLabelBinarizer\n",
    "mlb = MultiLabelBinarizer()\n",
    "cabin_transformed = mlb.fit_transform([{str(val)} for val in data['Cabin'].values])\n",
    "assert (len(data['Cabin'].unique()) == len(mlb.classes_)), \"Not Equal\"\n",
    "\n",
    "# drop categorical column with many labels\n",
    "data_new = data.drop(['Name','Ticket','Cabin','class'], axis=1)\n",
    "\n",
    "data_new = np.hstack((data_new.values, cabin_transformed))\n",
    "data_class = data['class'].values"
   ]
  },
  {
   "cell_type": "code",
   "execution_count": null,
   "metadata": {},
   "outputs": [],
   "source": [
    "training_indices, testing_indices = train_test_split(data.index, stratify=data_class, train_size=0.8, test_size=0.2)\n",
    "tpot = TPOTClassifier(verbosity=2, max_time_mins=2, max_eval_time_mins=0.04, population_size=40)\n",
    "tpot.fit(data_new[training_indices], data_class[training_indices])"
   ]
  },
  {
   "cell_type": "code",
   "execution_count": null,
   "metadata": {},
   "outputs": [],
   "source": [
    "predictions = tpot.predict(data_new[testing_indices])\n",
    "(predictions == data_class[testing_indices]).sum() / predictions.shape[0]"
   ]
  },
  {
   "cell_type": "code",
   "execution_count": null,
   "metadata": {},
   "outputs": [],
   "source": []
  }
 ],
 "metadata": {
  "kernelspec": {
   "display_name": "Conda",
   "language": "python",
   "name": "python3"
  },
  "language_info": {
   "codemirror_mode": {
    "name": "ipython",
    "version": 3
   },
   "file_extension": ".py",
   "mimetype": "text/x-python",
   "name": "python",
   "nbconvert_exporter": "python",
   "pygments_lexer": "ipython3",
   "version": "3.5.1"
  }
 },
 "nbformat": 4,
 "nbformat_minor": 1
}
