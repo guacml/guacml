{
 "cells": [
  {
   "cell_type": "markdown",
   "metadata": {},
   "source": [
    "# Rossmann\n",
    "\n",
    "Please manually download the competition data from https://www.kaggle.com/c/rossmann-store-sales/data to ./data/raw"
   ]
  },
  {
   "cell_type": "code",
   "execution_count": null,
   "metadata": {},
   "outputs": [],
   "source": [
    "%matplotlib inline\n",
    "import pandas as pd\n",
    "import os, sys\n",
    "module_path = os.path.abspath(os.path.join('../..'))\n",
    "if module_path not in sys.path:\n",
    "    sys.path.append(module_path)\n",
    "\n",
    "from guacml import GuacMl"
   ]
  },
  {
   "cell_type": "code",
   "execution_count": null,
   "metadata": {},
   "outputs": [],
   "source": [
    "stores = pd.read_csv('./data/raw/store.csv.zip')\n",
    "train = pd.read_csv('./data/raw/train.csv.zip')\n",
    "test = pd.read_csv('./data/raw/test.csv.zip')"
   ]
  },
  {
   "cell_type": "code",
   "execution_count": null,
   "metadata": {},
   "outputs": [],
   "source": [
    "merged = train.merge(stores, how='outer', on=['Store'])\n",
    "rand_stores = merged.Store.drop_duplicates().sample(10)\n",
    "sample = merged[merged.Store.isin(rand_stores)]\n",
    "sample = sample[sample.Sales > 0]"
   ]
  },
  {
   "cell_type": "code",
   "execution_count": null,
   "metadata": {},
   "outputs": [],
   "source": [
    "guac = GuacMl(sample, 'Sales', \n",
    "              eval_metric='rmspe',\n",
    "              target_transform='log',\n",
    "              exclude_cols=['Customers'])"
   ]
  },
  {
   "cell_type": "code",
   "execution_count": null,
   "metadata": {},
   "outputs": [],
   "source": [
    "guac.info()"
   ]
  },
  {
   "cell_type": "code",
   "execution_count": null,
   "metadata": {},
   "outputs": [],
   "source": [
    "guac.make_time_series(date_split_col='Date', series_key_cols='Store', prediction_length=14, n_offset_models=4)\n",
    "guac.plots.target_plot()"
   ]
  },
  {
   "cell_type": "code",
   "execution_count": null,
   "metadata": {},
   "outputs": [],
   "source": [
    "guac.plots.tree()"
   ]
  },
  {
   "cell_type": "code",
   "execution_count": null,
   "metadata": {},
   "outputs": [],
   "source": [
    "from guacml.preprocessing.feature_generation.historical_medians import HistoricalMedians\n",
    "\n",
    "week_day_medians = HistoricalMedians([1, 5, 20], guac.config, logger=guac.logger, group_keys=['DayOfWeek', 'Promo'])\n",
    "#guac.tree.insert_step_after('week_day_medians' ,'historical_medians', week_day_medians)\n",
    "guac.plots.tree()"
   ]
  },
  {
   "cell_type": "code",
   "execution_count": null,
   "metadata": {},
   "outputs": [],
   "source": [
    "guac.run(10)"
   ]
  },
  {
   "cell_type": "code",
   "execution_count": null,
   "metadata": {},
   "outputs": [],
   "source": [
    "guac.plots.predictions_vs_actual('xg_boost')"
   ]
  },
  {
   "cell_type": "code",
   "execution_count": null,
   "metadata": {},
   "outputs": [],
   "source": [
    "guac.model_results['xg_boost'].holdout_data"
   ]
  },
  {
   "cell_type": "code",
   "execution_count": null,
   "metadata": {},
   "outputs": [],
   "source": []
  },
  {
   "cell_type": "code",
   "execution_count": null,
   "metadata": {},
   "outputs": [],
   "source": []
  }
 ],
 "metadata": {
  "kernelspec": {
   "display_name": "Conda",
   "language": "python",
   "name": "python3"
  },
  "language_info": {
   "codemirror_mode": {
    "name": "ipython",
    "version": 3
   },
   "file_extension": ".py",
   "mimetype": "text/x-python",
   "name": "python",
   "nbconvert_exporter": "python",
   "pygments_lexer": "ipython3",
   "version": "3.5.1"
  }
 },
 "nbformat": 4,
 "nbformat_minor": 1
}
