{
 "cells": [
  {
   "cell_type": "code",
   "execution_count": null,
   "metadata": {},
   "outputs": [],
   "source": [
    "%matplotlib inline\n",
    "import os\n",
    "import pandas as pd\n",
    "import os, sys\n",
    "\n",
    "module_path = os.path.abspath(os.path.join('../..'))\n",
    "if module_path not in sys.path:\n",
    "    sys.path.append(module_path)\n",
    "\n",
    "# Please manually download the competition data from\n",
    "# https://www.kaggle.com/c/zillow-prize-1/data\n",
    "# To ./data/raw\n",
    "\n",
    "#Neither of this worked for me. Tried for more than an hour. Arrrrrggg.\n",
    "#https://stackoverflow.com/questions/43516982/import-kaggle-csv-from-download-url-to-pandas-dataframe/43519016\n",
    "#https://neuralniche.com/post/downloading-files-from-kaggle/"
   ]
  },
  {
   "cell_type": "code",
   "execution_count": null,
   "metadata": {},
   "outputs": [],
   "source": [
    "data_dir = './data/raw'\n",
    "df_props = pd.read_csv(os.path.join(data_dir, '{0}.csv'.format('properties_2016')), low_memory=False)\n",
    "df_train = pd.read_csv(os.path.join(data_dir, '{0}.csv'.format('train_2016')), low_memory=False)\n",
    "df = df_props.merge(df_train, how='outer')\n",
    "del df_props\n",
    "del df_train"
   ]
  },
  {
   "cell_type": "code",
   "execution_count": null,
   "metadata": {},
   "outputs": [],
   "source": [
    "from guacml import GuacMl\n",
    "sample = df.sample(frac=0.01)\n",
    "%time guac = GuacMl(sample, 'logerror', 'mean_absolute_error')"
   ]
  },
  {
   "cell_type": "code",
   "execution_count": null,
   "metadata": {},
   "outputs": [],
   "source": [
    "guac.data.display_metadata()"
   ]
  },
  {
   "cell_type": "code",
   "execution_count": null,
   "metadata": {},
   "outputs": [],
   "source": [
    "guac.run(10)"
   ]
  },
  {
   "cell_type": "code",
   "execution_count": null,
   "metadata": {},
   "outputs": [],
   "source": []
  }
 ],
 "metadata": {
  "kernelspec": {
   "display_name": "Conda",
   "language": "python",
   "name": "python3"
  },
  "language_info": {
   "codemirror_mode": {
    "name": "ipython",
    "version": 3
   },
   "file_extension": ".py",
   "mimetype": "text/x-python",
   "name": "python",
   "nbconvert_exporter": "python",
   "pygments_lexer": "ipython3",
   "version": "3.5.1"
  }
 },
 "nbformat": 4,
 "nbformat_minor": 1
}
